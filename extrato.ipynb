{
 "cells": [
  {
   "cell_type": "code",
   "execution_count": null,
   "metadata": {},
   "outputs": [],
   "source": [
    "import camelot \n",
    "import pandas as pd\n",
    "import numpy as np\n",
    "import matplotlib\n",
    "#Pra resolver o problema de UserWarning: FigureCanvasAgg is non-interactive, and thus cannot be shown plt.show())\n",
    "matplotlib.use('TkAgg')\n",
    "import matplotlib.pyplot as plt\n"
   ]
  },
  {
   "cell_type": "markdown",
   "metadata": {},
   "source": [
    "### Extração de dados"
   ]
  },
  {
   "cell_type": "code",
   "execution_count": null,
   "metadata": {},
   "outputs": [],
   "source": [
    "pdf_file = 'extrato.pdf'"
   ]
  },
  {
   "cell_type": "code",
   "execution_count": null,
   "metadata": {},
   "outputs": [],
   "source": [
    "tables = camelot.read_pdf(pdf_file, pages='all', flavor='stream', table_regions=['44,688,552,145'], columns=['96,289,379,444,513'])\n"
   ]
  },
  {
   "cell_type": "markdown",
   "metadata": {},
   "source": [
    "Pra poder pegar as coordenadas das colunas no PDF:"
   ]
  },
  {
   "cell_type": "code",
   "execution_count": null,
   "metadata": {},
   "outputs": [],
   "source": [
    "#camelot.plot(tables[3], kind='grid').show()"
   ]
  },
  {
   "cell_type": "code",
   "execution_count": null,
   "metadata": {},
   "outputs": [],
   "source": [
    "tables"
   ]
  },
  {
   "cell_type": "code",
   "execution_count": null,
   "metadata": {},
   "outputs": [],
   "source": [
    "tables[0].df\n"
   ]
  },
  {
   "cell_type": "markdown",
   "metadata": {},
   "source": [
    "### Transformação"
   ]
  },
  {
   "cell_type": "markdown",
   "metadata": {},
   "source": [
    "#### Juntar todas as tabelas em uma só"
   ]
  },
  {
   "cell_type": "code",
   "execution_count": null,
   "metadata": {},
   "outputs": [],
   "source": [
    "df_list = []"
   ]
  },
  {
   "cell_type": "code",
   "execution_count": null,
   "metadata": {},
   "outputs": [],
   "source": [
    "# Iterar sobre as tabelas e converter cada uma para DataFrame\n",
    "for table in tables:\n",
    "    df = table.df  # A tabela já é um DataFrame\n",
    "    df_list.append(df)\n",
    "\n",
    "# Concatenar todos os DataFrames em um único DataFrame\n",
    "df = pd.concat(df_list, ignore_index=True)"
   ]
  },
  {
   "cell_type": "markdown",
   "metadata": {},
   "source": [
    "#### Resetar o cabeçalho do Dataframe"
   ]
  },
  {
   "cell_type": "code",
   "execution_count": null,
   "metadata": {},
   "outputs": [],
   "source": [
    "df.columns = df.iloc[0]\n",
    "df = df.drop(0).reset_index(drop=True)\n"
   ]
  },
  {
   "cell_type": "code",
   "execution_count": null,
   "metadata": {},
   "outputs": [],
   "source": [
    "df.head()"
   ]
  },
  {
   "cell_type": "markdown",
   "metadata": {},
   "source": [
    "#### Dropar linhas de cabeçalho das outras páginas"
   ]
  },
  {
   "cell_type": "code",
   "execution_count": null,
   "metadata": {},
   "outputs": [],
   "source": [
    "palavras = 'Data|Histórico|Docto\\.|Crédito \\(R\\$\\)|Débito \\(R\\$\\)|Saldo \\(R\\$\\)'\n",
    "\n",
    "# Filtrando as linhas que não contêm essas palavras\n",
    "df = df[~df.apply(lambda row: row.astype(str).str.contains(palavras, case=False).any(), axis=1)]\n",
    "\n",
    "\n",
    "#df.to_excel('dataframe_teste.xlsx', index=False)\n",
    "\n",
    "#Fazendo a pesquisa de uma palavra específica \n",
    "\n",
    "count = df['Data'].str.contains('Data', case=False, na=False).sum()\n",
    "\n",
    "print(count)"
   ]
  },
  {
   "cell_type": "markdown",
   "metadata": {},
   "source": [
    "#### Concatenar linhas de 3 em 3 linhas\n",
    "\n",
    "Na hora da extração um único dado é repartido em 3 linhas, então tenho que concatenar essas linhas"
   ]
  },
  {
   "cell_type": "code",
   "execution_count": null,
   "metadata": {},
   "outputs": [],
   "source": [
    "# Lista para armazenar as linhas combinadas\n",
    "resultados = []\n",
    "\n",
    "# Iterando sobre o DataFrame de 3 em 3\n",
    "for i in range(0, len(df), 3):\n",
    "    # Selecionando o grupo de 3 linhas\n",
    "    grupo = df.iloc[i:i+3]\n",
    "    \n",
    "    # Concatenando os valores das colunas, ignorando valores vazios (NaN ou None)\n",
    "    resultado = grupo.apply(lambda col: ' '.join(col.dropna()), axis=0)\n",
    "    \n",
    "    \n",
    "    # Adicionando o resultado à lista\n",
    "    resultados.append(resultado)\n",
    "\n",
    "# Criando um novo DataFrame com os resultados\n",
    "df_juntado = pd.DataFrame(resultados)\n",
    "\n",
    "df_juntado.head()"
   ]
  },
  {
   "cell_type": "markdown",
   "metadata": {},
   "source": [
    "#### Remover espaços e simbolos antes das palavras\n"
   ]
  },
  {
   "cell_type": "code",
   "execution_count": null,
   "metadata": {},
   "outputs": [],
   "source": [
    "df_juntado.info()"
   ]
  },
  {
   "cell_type": "code",
   "execution_count": null,
   "metadata": {},
   "outputs": [],
   "source": [
    "import re\n",
    "\n",
    "# Função para remover espaços e símbolos antes das palavras\n",
    "def limpar_espacos_simbolos(valor):\n",
    "    if isinstance(valor, str):  # Verifica se o valor é uma string\n",
    "        # Remove qualquer caractere que não seja letra ou número antes ou depois da palavra\n",
    "        valor = re.sub(r'^[^\\w]+', '', valor)  # Remove qualquer símbolo ou espaço no início\n",
    "        valor = re.sub(r'[^\\w]+$', '', valor)  # Remove qualquer símbolo ou espaço no final\n",
    "        return valor\n",
    "    return valor  # Caso não seja string, retorna o valor original\n",
    "\n",
    "\n",
    "# Aplicando a função em todo o DataFrame\n",
    "df_limpo = df_juntado.map(limpar_espacos_simbolos)\n",
    "\n",
    "# Exibindo o DataFrame limpo\n",
    "df_limpo"
   ]
  },
  {
   "cell_type": "markdown",
   "metadata": {},
   "source": [
    "#### Preencher espaços de data vazios"
   ]
  },
  {
   "cell_type": "code",
   "execution_count": null,
   "metadata": {},
   "outputs": [],
   "source": [
    "# Certifique-se de que a coluna 'Data' está no tipo datetime\n",
    "df_limpo['Data'] = pd.to_datetime(df_limpo['Data'], errors='coerce')\n",
    "\n",
    "last_data = None  # Variável para armazenar a última data encontrada\n",
    "\n",
    "# Iterar pelas linhas do DataFrame\n",
    "for index, row in df_limpo.iterrows():\n",
    "    if pd.notna(row['Data']) and row['Data'] is not None:  # Verifica se a célula da coluna \"Data\" não for vazia (NaN ou None)\n",
    "        last_data = row['Data']  # Atualiza a última data\n",
    "    elif (pd.isna(row['Data']) or row['Data'] is None) and last_data is not None:  # Se a célula de \"Data\" for vazia (NaN ou None)\n",
    "        df_limpo.at[index, 'Data'] = last_data  # Preenche a célula vazia com a última data\n",
    "\n",
    "# Formatar as datas para 'dd/mm/yyyy'\n",
    "df_limpo['Data'] = df_limpo['Data'].dt.strftime('%d/%m/%Y')\n",
    "\n",
    "# Garantir que a última linha tenha 'Total' na coluna 'Data'\n",
    "df_limpo.at[df_limpo.index[-1], 'Data'] = 'Total'\n",
    "\n",
    "df_limpo.head()"
   ]
  },
  {
   "cell_type": "code",
   "execution_count": null,
   "metadata": {},
   "outputs": [],
   "source": [
    "def converter_para_float(valor):\n",
    "    if isinstance(valor, str):\n",
    "        if valor == '':  # Verifica se é uma string vazia\n",
    "            return np.nan  # Retorna NaN para string vazia\n",
    "        # Substitui a vírgula por ponto e remove os pontos de milhar\n",
    "        valor = valor.replace('.', '').replace(',', '.')\n",
    "        return float(valor)\n",
    "    return valor\n",
    "\n",
    "\n",
    "df_limpo['Crédito (R$)'] = df_limpo['Crédito (R$)'].apply(converter_para_float)\n",
    "df_limpo['Débito (R$)'] = df_limpo['Débito (R$)'].apply(converter_para_float)\n",
    "df_limpo['Saldo (R$)'] = df_limpo['Saldo (R$)'].apply(converter_para_float)"
   ]
  },
  {
   "cell_type": "code",
   "execution_count": null,
   "metadata": {},
   "outputs": [],
   "source": [
    "df_limpo.info()"
   ]
  },
  {
   "cell_type": "markdown",
   "metadata": {},
   "source": [
    "### Carregamento"
   ]
  },
  {
   "cell_type": "markdown",
   "metadata": {},
   "source": [
    "#### Carregar dados em um csv"
   ]
  },
  {
   "cell_type": "code",
   "execution_count": null,
   "metadata": {},
   "outputs": [],
   "source": [
    "# df_limpo.to_csv('dataframe_completo.csv', index=False)"
   ]
  },
  {
   "cell_type": "markdown",
   "metadata": {},
   "source": [
    "#### Carregar dados em um excel\n"
   ]
  },
  {
   "cell_type": "code",
   "execution_count": null,
   "metadata": {},
   "outputs": [],
   "source": [
    "\n",
    "df_limpo.to_excel('dataframe_completo.xlsx', index=False)"
   ]
  }
 ],
 "metadata": {
  "kernelspec": {
   "display_name": ".venv",
   "language": "python",
   "name": "python3"
  },
  "language_info": {
   "codemirror_mode": {
    "name": "ipython",
    "version": 3
   },
   "file_extension": ".py",
   "mimetype": "text/x-python",
   "name": "python",
   "nbconvert_exporter": "python",
   "pygments_lexer": "ipython3",
   "version": "3.10.12"
  }
 },
 "nbformat": 4,
 "nbformat_minor": 2
}
